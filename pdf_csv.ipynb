{
 "cells": [
  {
   "cell_type": "code",
   "execution_count": 13,
   "metadata": {},
   "outputs": [
    {
     "data": {
      "text/plain": [
       "True"
      ]
     },
     "execution_count": 13,
     "metadata": {},
     "output_type": "execute_result"
    }
   ],
   "source": [
    "import PyPDF2\n",
    "import openai\n",
    "from dotenv import load_dotenv\n",
    "\n",
    "load_dotenv()"
   ]
  },
  {
   "cell_type": "markdown",
   "metadata": {},
   "source": [
    "# Creation of the gpt"
   ]
  },
  {
   "cell_type": "code",
   "execution_count": 60,
   "metadata": {},
   "outputs": [],
   "source": [
    "client = openai.Client()\n",
    "model = \"gpt-3.5-turbo\"\n",
    "main_prompt = \"\"\"You will convert text data into a structured CSV format. The text data comes from a swimming competition result sheet and includes columns like 'primer apellido' (first surname), 'segundo apellido' (second surname), 'nombre' (name), 'año' (year), 'género' (gender), 'equipo' (team), 'puntos' (points), 'tiempo' (time), 'estilo' (style), 'distancia' (distance), 'tiempo 50m', and so on. The data is separated by commas.\n",
    "\n",
    "Here's an example of the text data:\n",
    "'Splash Meet Manager, ... Prueba 13 Masc., 200m Libre Absoluto Masculino 25/02/2023 - 11:15 Resultados Clasificación AN Tiempo Puntos 50m 100m 150m 200m 1.GUTIERREZ RAMOS, R. 04 C.D.N. Ciudad De Algeciras 2:01.35 19,00 27.26 30.06 31.70 32.33 2.GALLARDO MARTIN, J. 04 C.D.N. Inacua Malaga 2:04.57 16,00 28.69 30.89 32.15 32.84...'\n",
    "\n",
    "You need to extract and reformat this data into a CSV format like this:\n",
    "'primer apellido, segundo apellido, nombre, año, género, equipo, puntos, tiempo, estilo, distancia, tiempo 50m, tiempo 100m, tiempo 150m, tiempo 200m, tiempo 250m, tiempo 300m, tiempo 350m, tiempo 400m, tiempo 800m, tiempo 1500m, fecha, hora, lugar\n",
    "GUTIERREZ, RAMOS, R., 04, Masc, C.D.N. Ciudad De Algeciras, 19, 2:01.35, Libre, 200m, 27.26, 30.06, 31.70, 32.33, None, None, None, None, None, None, 25/02/2023, 11:15, Algeciras\n",
    "GALLARDO, MARTIN, J., 04, Masc, C.D.N. Inacua Malaga, 16, 2:04.57, Libre, 200m, 28.69, 30.89, 32.15, 32.84, None, None, None, None, None, None, 25/02/2023, 11:15, Algeciras'\n",
    "\n",
    "Note: If a swimmer is disqualified, indicated by 'WDR', then the time should be 'None' and the points should be '0'.\n",
    "\n",
    "When extracting data, ensure each row has the same number of fields. If the last row or any other row has missing information, fill in those fields with 'None'. Pay special attention to the last row to maintain consistency with the rest of the data.\n",
    "\n",
    "\n",
    "\"\"\"\n",
    "\n",
    "messages = [\n",
    "    {\"role\": \"system\", \"content\": main_prompt}\n",
    "]\n",
    "#Append the message to the conversation history \n",
    "def add_message(role, message):\n",
    "    messages.append({\"role\": role, \"content\": message})\n",
    "    return messages\n",
    "def converse_with_chatGPT(messages):\n",
    "    completion = client.chat.completions.create(\n",
    "    model=model, #Open AI model name\n",
    "    messages=messages, # user query\n",
    "    n=1, #number of responses expected from the Chat GPT\n",
    "    temperature=0 #making responses deterministic\n",
    ")\n",
    "\n",
    "    return completion.choices\n",
    "# process user prompt\n",
    "def process_user_query(prompt, messages):\n",
    "    user_prompt = (f\"{prompt}\")\n",
    "    add_message(\"user\", user_prompt)\n",
    "    result = converse_with_chatGPT(messages)\n",
    "    return result\n",
    "#Request user to provide the query\n",
    "def user_query(prompt):\n",
    "    prompt = prompt\n",
    "    response = process_user_query(prompt, messages)\n",
    "    return response[0].message.content\n",
    "        "
   ]
  },
  {
   "cell_type": "markdown",
   "metadata": {},
   "source": [
    "# First try"
   ]
  },
  {
   "cell_type": "code",
   "execution_count": 61,
   "metadata": {},
   "outputs": [
    {
     "name": "stdout",
     "output_type": "stream",
     "text": [
      "Splash Meet Manager, 11.75980 Registered to Andalucía 25/02/2023 11:23 - Página 1\n",
      "XXVII TROFEO NATACIÓN  \"DÍA DE ANDALUCÍA\"\n",
      "ALGECIRAS, 25/2/2023\n",
      "Prueba 13 Masc., 200m Libre Absoluto Masculino\n",
      "25/02/2023 - 11:15 Resultados\n",
      "Clasificación AN Tiempo Puntos 50m 100m 150m 200m\n",
      "1.GUTIERREZ RAMOS, R. 04 C.D.N. Ciudad De Algeciras 2:01.35 19,00 27.26 30.06 31.70 32.33\n",
      "2.GALLARDO MARTIN, J. 04 C.D.N. Inacua Malaga 2:04.57 16,00 28.69 30.89 32.15 32.84\n",
      "3.KENT, Merrick 05 Tarik Waterpolo Team 2:04.98 14,00 28.52 31.55 32.92 31.99\n",
      "4.ROBLES ROMERO, Javier 06 C.D.N. Sanlucar 2:09.94 13,00 28.43 32.66 34.52 34.33\n",
      "5.MACLANDA BUSTO, J. 03 C.D.N. Ciudad De Algeciras 2:12.57 - 29.77 32.64 35.37 34.79\n",
      "6.GAITÁN CANTOS, Ignacio 99 C.N. Caballa - Ciudad De Ceuta 2:17.47 12,00 31.29 35.61 36.39 34.18\n",
      "7.GARCÍA LUCERO, Jorge 09 C.N. Portuense 2:17.78 11,00 31.78 35.05 36.29 34.66\n",
      "8.DOMÍNGUEZ RUIZ, Álvaro 09 C.N. Dos Hermanas 2:24.00 10,00 31.29 36.25 38.79 37.67\n",
      "9.LANZA PEREA, Rafael 08 C.N. Torremolinos 2:24.60 9,00 31.41 37.36 38.31 37.52\n",
      "10.SÁNCHEZ LOBO, Javier 07 C.N. Estepona 2:28.38 8,00 32.11 37.07 39.32 39.88\n",
      "11.JARILLO PINEDA, Adrian 07 C.N. San Roque 2:29.77 7,00 31.52 36.99 40.85 40.41\n",
      "12.SEQUERA REINA, Carlos 07 Club Nat. Melilla 2:31.13 6,00 33.51 37.92 41.01 38.69\n",
      "13.VERDU MATEOS, Jose Luis 09 C.N. Ubrique 2:35.66 5,00 32.81 39.24 42.96 40.65\n",
      "WDR ATENCIA GONZALEZ, G. 06 Fusion Colombino-Lepe -\n"
     ]
    }
   ],
   "source": [
    "pdf = PyPDF2.PdfReader(\"ResultList_13.pdf\")\n",
    "# get number of pages\n",
    "text = \"\"\n",
    "num_pages = len(pdf.pages)\n",
    "for page in range(num_pages):\n",
    "    pageObj = pdf.pages[page]\n",
    "    text += pageObj.extract_text()\n",
    "print(text)"
   ]
  },
  {
   "cell_type": "code",
   "execution_count": 62,
   "metadata": {},
   "outputs": [
    {
     "name": "stdout",
     "output_type": "stream",
     "text": [
      "primer apellido, segundo apellido, nombre, año, género, equipo, puntos, tiempo, estilo, distancia, tiempo 50m, tiempo 100m, tiempo 150m, tiempo 200m, tiempo 250m, tiempo 300m, tiempo 350m, tiempo 400m, tiempo 800m, tiempo 1500m, fecha, hora, lugar\n",
      "GUTIERREZ, RAMOS, R., 04, Masc, C.D.N. Ciudad De Algeciras, 19, 2:01.35, Libre, 200m, 27.26, 30.06, 31.70, 32.33, None, None, None, None, None, None, 25/02/2023, 11:15, Algeciras\n",
      "GALLARDO, MARTIN, J., 04, Masc, C.D.N. Inacua Malaga, 16, 2:04.57, Libre, 200m, 28.69, 30.89, 32.15, 32.84, None, None, None, None, None, None, 25/02/2023, 11:15, Algeciras\n",
      "KENT, None, Merrick, 05, None, Tarik Waterpolo Team, 14, 2:04.98, Libre, 200m, 28.52, 31.55, 32.92, 31.99, None, None, None, None, None, None, 25/02/2023, 11:15, Algeciras\n",
      "ROBLES, ROMERO, Javier, 06, None, C.D.N. Sanlucar, 13, 2:09.94, Libre, 200m, 28.43, 32.66, 34.52, 34.33, None, None, None, None, None, None, 25/02/2023, 11:15, Algeciras\n",
      "MACLANDA, BUSTO, J., 03, None, C.D.N. Ciudad De Algeciras, None, 2:12.57, Libre, 200m, 29.77, 32.64, 35.37, 34.79, None, None, None, None, None, None, 25/02/2023, 11:15, Algeciras\n",
      "GAITÁN, CANTOS, Ignacio, 99, None, C.N. Caballa - Ciudad De Ceuta, 12, 2:17.47, Libre, 200m, 31.29, 35.61, 36.39, 34.18, None, None, None, None, None, None, 25/02/2023, 11:15, Algeciras\n",
      "GARCÍA, LUCERO, Jorge, 09, None, C.N. Portuense, 11, 2:17.78, Libre, 200m, 31.78, 35.05, 36.29, 34.66, None, None, None, None, None, None, 25/02/2023, 11:15, Algeciras\n",
      "DOMÍNGUEZ, RUIZ, Álvaro, 09, None, C.N. Dos Hermanas, 10, 2:24.00, Libre, 200m, 31.29, 36.25, 38.79, 37.67, None, None, None, None, None, None, 25/02/2023, 11:15, Algeciras\n",
      "LANZA, PEREA, Rafael, 08, None, C.N. Torremolinos, 9, 2:24.60, Libre, 200m, 31.41, 37.36, 38.31, 37.52, None, None, None, None, None, None, 25/02/2023, 11:15, Algeciras\n",
      "SÁNCHEZ, LOBO, Javier, 07, None, C.N. Estepona, 8, 2:28.38, Libre, 200m, 32.11, 37.07, 39.32, 39.88, None, None, None, None, None, None, 25/02/2023, 11:15, Algeciras\n",
      "JARILLO, PINEDA, Adrian, 07, None, C.N. San Roque, 7, 2:29.77, Libre, 200m, 31.52, 36.99, 40.85, 40.41, None, None, None, None, None, None, 25/02/2023, 11:15, Algeciras\n",
      "SEQUERA, REINA, Carlos, 07, None, Club Nat. Melilla, 6, 2:31.13, Libre, 200m, 33.51, 37.92, 41.01, 38.69, None, None, None, None, None, None, 25/02/2023, 11:15, Algeciras\n",
      "VERDU, MATEOS, Jose Luis, 09, None, C.N. Ubrique, 5, 2:35.66, Libre, 200m, 32.81, 39.24, 42.96, 40.65, None, None, None, None, None, None, 25/02/2023, 11:15, Algeciras\n",
      "ATENCIA, GONZALEZ, G., 06, None, Fusion Colombino-Lepe, 0, None, None, None, None, None, None, None, None, None, None, None, None, None, 25/02/2023, 11:15, Algeciras\n"
     ]
    }
   ],
   "source": [
    "datos = user_query(text)\n",
    "print(datos)"
   ]
  },
  {
   "cell_type": "code",
   "execution_count": 63,
   "metadata": {},
   "outputs": [],
   "source": [
    "if datos is not None:\n",
    "    with open('datos.csv', 'w') as f:\n",
    "        f.write(datos)\n",
    "else:\n",
    "    print(\"No data to write to the file.\")"
   ]
  },
  {
   "cell_type": "code",
   "execution_count": 64,
   "metadata": {},
   "outputs": [
    {
     "name": "stdout",
     "output_type": "stream",
     "text": [
      "   primer apellido  segundo apellido      nombre   año  género  \\\n",
      "0        GUTIERREZ             RAMOS          R.     4    Masc   \n",
      "1         GALLARDO            MARTIN          J.     4    Masc   \n",
      "2             KENT              None     Merrick     5    None   \n",
      "3           ROBLES            ROMERO      Javier     6    None   \n",
      "4         MACLANDA             BUSTO          J.     3    None   \n",
      "5           GAITÁN            CANTOS     Ignacio    99    None   \n",
      "6           GARCÍA            LUCERO       Jorge     9    None   \n",
      "7        DOMÍNGUEZ              RUIZ      Álvaro     9    None   \n",
      "8            LANZA             PEREA      Rafael     8    None   \n",
      "9          SÁNCHEZ              LOBO      Javier     7    None   \n",
      "10         JARILLO            PINEDA      Adrian     7    None   \n",
      "11         SEQUERA             REINA      Carlos     7    None   \n",
      "12           VERDU            MATEOS   Jose Luis     9    None   \n",
      "13         ATENCIA          GONZALEZ          G.     6    None   \n",
      "\n",
      "                             equipo  puntos    tiempo  estilo  distancia  ...  \\\n",
      "0        C.D.N. Ciudad De Algeciras      19   2:01.35   Libre       200m  ...   \n",
      "1              C.D.N. Inacua Malaga      16   2:04.57   Libre       200m  ...   \n",
      "2              Tarik Waterpolo Team      14   2:04.98   Libre       200m  ...   \n",
      "3                   C.D.N. Sanlucar      13   2:09.94   Libre       200m  ...   \n",
      "4        C.D.N. Ciudad De Algeciras    None   2:12.57   Libre       200m  ...   \n",
      "5    C.N. Caballa - Ciudad De Ceuta      12   2:17.47   Libre       200m  ...   \n",
      "6                    C.N. Portuense      11   2:17.78   Libre       200m  ...   \n",
      "7                 C.N. Dos Hermanas      10   2:24.00   Libre       200m  ...   \n",
      "8                 C.N. Torremolinos       9   2:24.60   Libre       200m  ...   \n",
      "9                     C.N. Estepona       8   2:28.38   Libre       200m  ...   \n",
      "10                   C.N. San Roque       7   2:29.77   Libre       200m  ...   \n",
      "11                Club Nat. Melilla       6   2:31.13   Libre       200m  ...   \n",
      "12                     C.N. Ubrique       5   2:35.66   Libre       200m  ...   \n",
      "13            Fusion Colombino-Lepe       0      None    None       None  ...   \n",
      "\n",
      "    tiempo 200m  tiempo 250m  tiempo 300m  tiempo 350m  tiempo 400m  \\\n",
      "0         32.33         None         None         None         None   \n",
      "1         32.84         None         None         None         None   \n",
      "2         31.99         None         None         None         None   \n",
      "3         34.33         None         None         None         None   \n",
      "4         34.79         None         None         None         None   \n",
      "5         34.18         None         None         None         None   \n",
      "6         34.66         None         None         None         None   \n",
      "7         37.67         None         None         None         None   \n",
      "8         37.52         None         None         None         None   \n",
      "9         39.88         None         None         None         None   \n",
      "10        40.41         None         None         None         None   \n",
      "11        38.69         None         None         None         None   \n",
      "12        40.65         None         None         None         None   \n",
      "13         None         None         None         None         None   \n",
      "\n",
      "    tiempo 800m  tiempo 1500m        fecha    hora       lugar  \n",
      "0          None          None   25/02/2023   11:15   Algeciras  \n",
      "1          None          None   25/02/2023   11:15   Algeciras  \n",
      "2          None          None   25/02/2023   11:15   Algeciras  \n",
      "3          None          None   25/02/2023   11:15   Algeciras  \n",
      "4          None          None   25/02/2023   11:15   Algeciras  \n",
      "5          None          None   25/02/2023   11:15   Algeciras  \n",
      "6          None          None   25/02/2023   11:15   Algeciras  \n",
      "7          None          None   25/02/2023   11:15   Algeciras  \n",
      "8          None          None   25/02/2023   11:15   Algeciras  \n",
      "9          None          None   25/02/2023   11:15   Algeciras  \n",
      "10         None          None   25/02/2023   11:15   Algeciras  \n",
      "11         None          None   25/02/2023   11:15   Algeciras  \n",
      "12         None          None   25/02/2023   11:15   Algeciras  \n",
      "13         None          None   25/02/2023   11:15   Algeciras  \n",
      "\n",
      "[14 rows x 23 columns]\n"
     ]
    }
   ],
   "source": [
    "import pandas as pd\n",
    "\n",
    "csv = pd.read_csv(\"datos.csv\")\n",
    "print(csv)"
   ]
  },
  {
   "cell_type": "markdown",
   "metadata": {},
   "source": [
    "# Second try"
   ]
  },
  {
   "cell_type": "code",
   "execution_count": 65,
   "metadata": {},
   "outputs": [
    {
     "name": "stdout",
     "output_type": "stream",
     "text": [
      "Splash Meet Manager, 11.76277 Registered to Andalucía 01/04/2023 12:58 - Página 1\n",
      "FASE 2 RFEN ALEVÍN ZONA CENTRAL\n",
      "LOS BARRIOS, 1/4/2023\n",
      "Prueba 15 Masc., 400m Libre Alevín Masc.\n",
      "01/04/2023 - 12:51 Resultados\n",
      "Clasificación AN Tiempo Puntos\n",
      "1.GIL DE MIGUEL, Nicolas 09 C.N. Los Barrios 4:53.58 38,00\n",
      "50m: 33.60 33.60 150m: 1:45.57 36.48 250m: 3:01.37 38.46 350m: 4:17.69 37.70\n",
      "100m: 1:09.09 35.49 200m: 2:22.91 37.34 300m: 3:39.99 38.62 400m: 4:53.58 35.89\n",
      "2.SANTANO JURADO, Francisco Javier 09 C.N. Baena 4:53.69 32,00\n",
      "50m: 33.72 33.72 150m: 1:49.94 38.32 250m: 3:06.12 37.91 350m: 4:19.85 36.08\n",
      "100m: 1:11.62 37.90 200m: 2:28.21 38.27 300m: 3:43.77 37.65 400m: 4:53.69 33.84\n",
      "3.BRICEÑO CORTES, Iker 10 C.D.N. Inacua Malaga 4:54.03 28,00\n",
      "50m: 33.88 33.88 150m: 1:48.60 37.97 250m: 3:04.61 38.19 350m: 4:19.81 37.18\n",
      "100m: 1:10.63 36.75 200m: 2:26.42 37.82 300m: 3:42.63 38.02 400m: 4:54.03 34.22\n",
      "4.GONZALEZ DÍAZ, Javier 09 C.N. Fuengirola 4:55.53 26,00\n",
      "50m: 34.86 34.86 150m: 1:48.56 36.64 250m: 3:03.77 38.37 350m: 4:19.46 37.47\n",
      "100m: 1:11.92 37.06 200m: 2:25.40 36.84 300m: 3:41.99 38.22 400m: 4:55.53 36.07\n",
      "5.PAVÓN WEITZNER, Max 09 C.N. Fuengirola 4:57.49 24,00\n",
      "50m: 32.61 32.61 150m: 1:46.59 37.61 250m: 3:02.73 38.12 350m: 4:20.00 38.72\n",
      "100m: 1:08.98 36.37 200m: 2:24.61 38.02 300m: 3:41.28 38.55 400m: 4:57.49 37.49\n",
      "6.CARRASCO ESQUINAS, David 09 Navial 5:00.91 22,00\n",
      "50m: 32.93 32.93 150m: 1:47.49 38.54 250m: 3:03.98 38.26 350m: 4:20.56 37.92\n",
      "100m: 1:08.95 36.02 200m: 2:25.72 38.23 300m: 3:42.64 38.66 400m: 5:00.91 40.35\n",
      "7.GONZALEZ IGLESIAS, Jose 09 C.D.N. Inacua Malaga 5:13.50 19,00\n",
      "50m: 34.72 34.72 150m: 1:53.28 40.14 250m: 3:12.58 39.40 350m: 4:29.14 37.58\n",
      "100m: 1:13.14 38.42 200m: 2:33.18 39.90 300m: 3:51.56 38.98 400m: 5:13.50 44.36\n",
      "GUERRERO CASTILLA, Jose Ramon 09 Navial 5:13.50 19,00\n",
      "50m: 34.63 34.63 150m: 1:55.59 41.19 250m: 3:16.83 39.70 350m: 4:35.95 39.04\n",
      "100m: 1:14.40 39.77 200m: 2:37.13 41.54 300m: 3:56.91 40.08 400m: 5:13.50 37.55\n",
      "9.PAVÓN WEITZNER, Leo 09 C.N. Fuengirola 5:17.68 -\n",
      "50m: 34.64 34.64 150m: 1:53.05 39.83 250m: 3:15.16 40.62 350m: 4:37.08 40.78\n",
      "100m: 1:13.22 38.58 200m: 2:34.54 41.49 300m: 3:56.30 41.14 400m: 5:17.68 40.60\n",
      "10. MARTIN GUERRA, Javier Adrian 10 C.Kronos Natación Mijas 5:19.55 16,00\n",
      "50m: 36.60 36.60 150m: 1:58.51 41.09 250m: 3:20.56 40.85 350m: 4:41.86 41.22\n",
      "100m: 1:17.42 40.82 200m: 2:39.71 41.20 300m: 4:00.64 40.08 400m: 5:19.55 37.69\n",
      "11. GOMEZ GARCIA, Samuel 10 C.D.N. Ciudad De Algeciras 5:25.82 14,00\n",
      "50m: 36.05 36.05 150m: 1:57.74 41.66 250m: 3:23.08 42.91 350m: 4:47.27 41.96\n",
      "100m: 1:16.08 40.03 200m: 2:40.17 42.43 300m: 4:05.31 42.23 400m: 5:25.82 38.55\n",
      "12. TORRONTERAS GARCÍA, Juan Manuel 10 Navial 5:27.62 -\n",
      "50m: 37.18 37.18 150m: 1:59.60 41.92 250m: 3:23.75 41.32 350m: 4:46.88 41.63\n",
      "100m: 1:17.68 40.50 200m: 2:42.43 42.83 300m: 4:05.25 41.50 400m: 5:27.62 40.74\n",
      "13. TABARES GONZALEZ, Samuel 10 C.N. Villarrense 5:54.95 12,00\n",
      "50m: 34.64 34.64 150m: 2:00.80 45.12 250m: 3:33.61 45.98 350m: 5:08.67 47.12\n",
      "100m: 1:15.68 41.04 200m: 2:47.63 46.83 300m: 4:21.55 47.94 400m: 5:54.95 46.28\n",
      "14. TORRES GOMEZ, Jose 10 C.N. Villarrense 6:11.74 10,00\n",
      "50m: 39.07 39.07 150m: 2:11.57 46.91 250m: 3:49.21 49.06 350m: 5:27.85 49.25\n",
      "100m: 1:24.66 45.59 200m: 3:00.15 48.58 300m: 4:38.60 49.39 400m: 6:11.74 43.89\n",
      "WDR GOMEZ MONTERO, Daniel 10 C.D.N. Inacua Malaga -\n"
     ]
    }
   ],
   "source": [
    "pdf = PyPDF2.PdfReader(\"ResultList_15.pdf\")\n",
    "# get number of pages\n",
    "text = \"\"\n",
    "num_pages = len(pdf.pages)\n",
    "for page in range(num_pages):\n",
    "    pageObj = pdf.pages[page]\n",
    "    text += pageObj.extract_text()\n",
    "print(text)"
   ]
  },
  {
   "cell_type": "code",
   "execution_count": 66,
   "metadata": {},
   "outputs": [
    {
     "name": "stdout",
     "output_type": "stream",
     "text": [
      "primer apellido, segundo apellido, nombre, año, género, equipo, puntos, tiempo, estilo, distancia, tiempo 50m, tiempo 100m, tiempo 150m, tiempo 200m, tiempo 250m, tiempo 300m, tiempo 350m, tiempo 400m, tiempo 800m, tiempo 1500m, fecha, hora, lugar\n",
      "GIL, DE MIGUEL, Nicolas, 09, Masc, C.N. Los Barrios, 38, 4:53.58, Libre, 400m, 33.60, 1:09.09, 1:45.57, 2:22.91, 3:01.37, 3:39.99, 4:17.69, 4:53.58, None, None, 01/04/2023, 12:51, Los Barrios\n",
      "SANTANO, JURADO, Francisco Javier, 09, Masc, C.N. Baena, 32, 4:53.69, Libre, 400m, 33.72, 1:11.62, 1:49.94, 2:28.21, 3:06.12, 3:43.77, 4:19.85, 4:53.69, None, None, 01/04/2023, 12:51, Los Barrios\n",
      "BRICEÑO, CORTES, Iker, 10, Masc, C.D.N. Inacua Malaga, 28, 4:54.03, Libre, 400m, 33.88, 1:10.63, 1:48.60, 2:26.42, 3:04.61, 3:42.63, 4:19.81, 4:54.03, None, None, 01/04/2023, 12:51, Los Barrios\n",
      "GONZALEZ, DÍAZ, Javier, 09, Masc, C.N. Fuengirola, 26, 4:55.53, Libre, 400m, 34.86, 1:11.92, 1:48.56, 2:25.40, 3:03.77, 3:41.99, 4:19.46, 4:55.53, None, None, 01/04/2023, 12:51, Los Barrios\n",
      "PAVÓN, WEITZNER, Max, 09, Masc, C.N. Fuengirola, 24, 4:57.49, Libre, 400m, 32.61, 1:08.98, 1:46.59, 2:24.61, 3:02.73, 3:41.28, 4:20.00,\n"
     ]
    }
   ],
   "source": [
    "datos = user_query(text)\n",
    "print(datos)"
   ]
  },
  {
   "cell_type": "code",
   "execution_count": 67,
   "metadata": {},
   "outputs": [],
   "source": [
    "with open('datos2.csv', 'w') as f:\n",
    "    f.write(datos)"
   ]
  },
  {
   "cell_type": "code",
   "execution_count": 68,
   "metadata": {},
   "outputs": [
    {
     "name": "stdout",
     "output_type": "stream",
     "text": [
      "  primer apellido  segundo apellido             nombre   año  género  \\\n",
      "0             GIL         DE MIGUEL            Nicolas     9    Masc   \n",
      "1         SANTANO            JURADO   Francisco Javier     9    Masc   \n",
      "2         BRICEÑO            CORTES               Iker    10    Masc   \n",
      "3        GONZALEZ              DÍAZ             Javier     9    Masc   \n",
      "4           PAVÓN          WEITZNER                Max     9    Masc   \n",
      "\n",
      "                  equipo   puntos    tiempo  estilo  distancia  ...  \\\n",
      "0       C.N. Los Barrios       38   4:53.58   Libre       400m  ...   \n",
      "1             C.N. Baena       32   4:53.69   Libre       400m  ...   \n",
      "2   C.D.N. Inacua Malaga       28   4:54.03   Libre       400m  ...   \n",
      "3        C.N. Fuengirola       26   4:55.53   Libre       400m  ...   \n",
      "4        C.N. Fuengirola       24   4:57.49   Libre       400m  ...   \n",
      "\n",
      "    tiempo 200m  tiempo 250m  tiempo 300m  tiempo 350m  tiempo 400m  \\\n",
      "0       2:22.91      3:01.37      3:39.99      4:17.69      4:53.58   \n",
      "1       2:28.21      3:06.12      3:43.77      4:19.85      4:53.69   \n",
      "2       2:26.42      3:04.61      3:42.63      4:19.81      4:54.03   \n",
      "3       2:25.40      3:03.77      3:41.99      4:19.46      4:55.53   \n",
      "4       2:24.61      3:02.73      3:41.28      4:20.00          NaN   \n",
      "\n",
      "   tiempo 800m  tiempo 1500m        fecha    hora         lugar  \n",
      "0         None          None   01/04/2023   12:51   Los Barrios  \n",
      "1         None          None   01/04/2023   12:51   Los Barrios  \n",
      "2         None          None   01/04/2023   12:51   Los Barrios  \n",
      "3         None          None   01/04/2023   12:51   Los Barrios  \n",
      "4          NaN           NaN          NaN     NaN           NaN  \n",
      "\n",
      "[5 rows x 23 columns]\n"
     ]
    }
   ],
   "source": [
    "import pandas as pd\n",
    "csv2 = pd.read_csv(\"datos2.csv\")\n",
    "print(csv2)"
   ]
  }
 ],
 "metadata": {
  "kernelspec": {
   "display_name": "pdf-csv",
   "language": "python",
   "name": "python3"
  },
  "language_info": {
   "codemirror_mode": {
    "name": "ipython",
    "version": 3
   },
   "file_extension": ".py",
   "mimetype": "text/x-python",
   "name": "python",
   "nbconvert_exporter": "python",
   "pygments_lexer": "ipython3",
   "version": "3.11.6"
  }
 },
 "nbformat": 4,
 "nbformat_minor": 2
}
